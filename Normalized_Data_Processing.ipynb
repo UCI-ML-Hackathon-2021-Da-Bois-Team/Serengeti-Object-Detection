{
 "cells": [
  {
   "cell_type": "code",
   "execution_count": 5,
   "id": "53f470cb-db8c-42a1-9701-4fd297c846f7",
   "metadata": {},
   "outputs": [],
   "source": [
    "import numpy as np\n",
    "import matplotlib.pyplot as plt\n",
    "import json\n",
    "import cv2"
   ]
  },
  {
   "cell_type": "code",
   "execution_count": 6,
   "id": "f19a6579-41e5-4688-b328-a9a341ccedbe",
   "metadata": {},
   "outputs": [],
   "source": [
    "data_path = 'physicshub_dir/dfs6/pub/hackathon/DATASETS/SERENGETI/DOWNLOADED'\n",
    "file = open('SnapshotSerengetiBboxes_20190903.json')\n",
    "bbox = json.load(file)\n",
    "file.close()"
   ]
  },
  {
   "cell_type": "code",
   "execution_count": 7,
   "id": "712647f9-8c9a-411f-907c-4fbd6f1f29c3",
   "metadata": {},
   "outputs": [],
   "source": [
    "def format_bbox_txt(bbox_info, write_index, path, shape):\n",
    "        img_w, img_h = shape\n",
    "        cat_id = bbox_info['category_id']\n",
    "        x,y,w,h = list(bbox_info['bbox'])\n",
    "        x_center = (x+w/2)/img_w\n",
    "        y_center = (y+h/2)/img_h\n",
    "        file = open(f'serengeti/labels/{path}/im{write_index}.txt', 'a+')\n",
    "        file.write(f'{cat_id} {x_center} {y_center} {w/img_w} {h/img_h}\\r\\n')\n",
    "        file.close()\n",
    "\n",
    "def input_data(bbox_data, path, start=0, end=100):\n",
    "    annot_list = np.arange(0,len(bbox_data))\n",
    "    count = 0\n",
    "    write_index = 0\n",
    "    im_set = set()\n",
    "    for index, im_id in enumerate(annot_list[start:end]):\n",
    "        img_path = bbox_data[im_id]['image_id']\n",
    "        img_str = img_path.split('/')[-1]\n",
    "        \n",
    "        \n",
    "        img = cv2.imread(f'{data_path}/{img_path}.JPG')\n",
    "        if type(img)!=type(None):\n",
    "            size = len(im_set)\n",
    "            im_set |= {img_str}\n",
    "\n",
    "            if len(im_set) != size or size==0:\n",
    "                write_index += 1\n",
    "                cv2.imwrite(f'serengeti/images/{path}/im{write_index}.JPG', img)\n",
    "\n",
    "            format_bbox_txt(bbox_data[im_id], write_index, path, (img.shape[1],img.shape[0]) )\n",
    "        else:\n",
    "            count+=1"
   ]
  },
  {
   "cell_type": "code",
   "execution_count": 8,
   "id": "1c5d8f0c-844a-4c0f-a1a3-c40d9eb425bf",
   "metadata": {},
   "outputs": [],
   "source": [
    "input_data(bbox['annotations'], 'training', start=0, end=100)\n",
    "input_data(bbox['annotations'], 'validation', start=100, end=200)\n",
    "input_data(bbox['annotations'], 'testing', start=200, end=300)"
   ]
  },
  {
   "cell_type": "code",
   "execution_count": null,
   "id": "6f09ba4f-b5ea-4117-8eef-08f4e41691f8",
   "metadata": {},
   "outputs": [],
   "source": []
  }
 ],
 "metadata": {
  "kernelspec": {
   "display_name": "Python 3",
   "language": "python",
   "name": "python3"
  },
  "language_info": {
   "codemirror_mode": {
    "name": "ipython",
    "version": 3
   },
   "file_extension": ".py",
   "mimetype": "text/x-python",
   "name": "python",
   "nbconvert_exporter": "python",
   "pygments_lexer": "ipython3",
   "version": "3.8.0"
  }
 },
 "nbformat": 4,
 "nbformat_minor": 5
}
